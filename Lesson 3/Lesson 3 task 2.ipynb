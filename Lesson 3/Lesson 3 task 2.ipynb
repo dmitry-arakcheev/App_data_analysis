{
 "cells": [
  {
   "cell_type": "markdown",
   "metadata": {},
   "source": [
    "# Задание\n",
    "\n",
    "**Вашей второй задачей будет составить дашборд, который описывает взаимодействие двух сервисов — ленты новостей и сообщений.  \n",
    "Постарайтесь при помощи дашборда ответить на следующие вопросы:**  \n",
    "- Какая у нашего приложения активная аудитория по дням, т.е. пользователи, которые пользуются и лентой новостей, и сервисом сообщений.  \n",
    "- Сколько пользователей использует только ленту новостей и не пользуются сообщениями.  \n",
    "\n",
    "**Какие еще вопросы вы бы хотели исследовать о связи двух продуктов?**"
   ]
  },
  {
   "cell_type": "markdown",
   "metadata": {},
   "source": [
    "*вместо ссылки на дашборд, сделанный в Apache Superset, здесь будет приведено изображение*"
   ]
  },
  {
   "cell_type": "markdown",
   "metadata": {},
   "source": [
    "![](Dashboard_3/приложение-лента-мессенджер.jpg \"Приложение лента и мессенджер\")"
   ]
  }
 ],
 "metadata": {
  "kernelspec": {
   "display_name": "Python 3 (ipykernel)",
   "language": "python",
   "name": "python3"
  },
  "language_info": {
   "codemirror_mode": {
    "name": "ipython",
    "version": 3
   },
   "file_extension": ".py",
   "mimetype": "text/x-python",
   "name": "python",
   "nbconvert_exporter": "python",
   "pygments_lexer": "ipython3",
   "version": "3.9.13"
  }
 },
 "nbformat": 4,
 "nbformat_minor": 4
}

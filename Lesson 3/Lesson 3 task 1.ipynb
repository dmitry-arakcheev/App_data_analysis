{
 "cells": [
  {
   "cell_type": "markdown",
   "metadata": {},
   "source": [
    "# Задание\n",
    "\n",
    "**Если нам поручили настроить аналитику продукта, нужно начать с нескольких базовых дашбордов, которые покрывают собой ключевые аудиторные метрики и ключевые события нашего продукта.  \n",
    "Подумайте, какие графики, срезы, метрики имеет смысл добавить на дашборды.**"
   ]
  },
  {
   "cell_type": "markdown",
   "metadata": {},
   "source": [
    "*вместо ссылок на дашборды, построенные в Apache Superset, здесь будут приведены изображения*"
   ]
  },
  {
   "cell_type": "markdown",
   "metadata": {},
   "source": [
    "## Дашборд №1. Обзорный. Основные данные"
   ]
  },
  {
   "cell_type": "markdown",
   "metadata": {},
   "source": [
    "![Лента новостей (основное)](Dashboard_1/лента-новостей-основное.jpg \"Dasboard Лента новостей (основное)\")"
   ]
  },
  {
   "cell_type": "markdown",
   "metadata": {},
   "source": [
    "*далее изображены отдельные вкладки*"
   ]
  },
  {
   "cell_type": "markdown",
   "metadata": {},
   "source": [
    "![WAU](Dashboard_1/wau.jpg \"WAU\")"
   ]
  },
  {
   "cell_type": "markdown",
   "metadata": {},
   "source": [
    "![MAU](Dashboard_1/mau.jpg \"MAU\")"
   ]
  },
  {
   "cell_type": "markdown",
   "metadata": {},
   "source": [
    "![количество-новых-пользователей](Dashboard_1/количество-новых-пользователей.jpg \"Количество новых пользователей\")"
   ]
  },
  {
   "cell_type": "markdown",
   "metadata": {},
   "source": [
    "![рост-аудитории](Dashboard_1/рост-аудитории.jpg \"Рост аудитории\")"
   ]
  },
  {
   "cell_type": "markdown",
   "metadata": {},
   "source": [
    "![скорость-роста-аудитории](Dashboard_1/audience-growth-rate.jpg \"Скорость роста аудитории\")"
   ]
  },
  {
   "cell_type": "markdown",
   "metadata": {},
   "source": [
    "![](Dashboard_1/лайки-и-просмотры-в-неделю.jpg \"Лайки и просмотры в неделю\")"
   ]
  },
  {
   "cell_type": "markdown",
   "metadata": {},
   "source": [
    "![](Dashboard_1/лайки-и-просмотры-в-месяц.jpg \"Лайки и просмотры в месяц\")"
   ]
  },
  {
   "cell_type": "markdown",
   "metadata": {},
   "source": [
    "## Дашборд №2. Оперативные данные"
   ]
  },
  {
   "cell_type": "markdown",
   "metadata": {},
   "source": [
    "![](Dashboard_2/лента-новостей-оперативные-данные.jpg \"Лента новостей (оперативные данные)\")"
   ]
  }
 ],
 "metadata": {
  "kernelspec": {
   "display_name": "Python 3 (ipykernel)",
   "language": "python",
   "name": "python3"
  },
  "language_info": {
   "codemirror_mode": {
    "name": "ipython",
    "version": 3
   },
   "file_extension": ".py",
   "mimetype": "text/x-python",
   "name": "python",
   "nbconvert_exporter": "python",
   "pygments_lexer": "ipython3",
   "version": "3.9.13"
  }
 },
 "nbformat": 4,
 "nbformat_minor": 4
}

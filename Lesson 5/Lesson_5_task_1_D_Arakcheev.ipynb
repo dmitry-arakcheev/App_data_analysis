{
 "cells": [
  {
   "cell_type": "markdown",
   "id": "8e2734ca",
   "metadata": {
    "tags": []
   },
   "source": [
    "## Задание\n",
    "У нас есть данные АА-теста с '2023-01-24' по '2023-01-30'. Нужно сделать симуляцию, как будто мы провели 10000 АА-тестов. На каждой итерации нужно сформировать подвыборки без повторения в 500 юзеров из 2 и 3 экспериментальной группы. Провести сравнение этих подвыборок t-testом.\n",
    "\n",
    "1. Построить гистограмму распределения получившихся 10000 p-values.\n",
    "\n",
    "2. Посчитать, какой процент p-values оказался меньше либо равен 0.05\n",
    "\n",
    "3. Написать вывод по проведенному АА-тесту, корректно ли работает наша система сплитования.\n",
    "\n",
    "4. Прислать ссылку на merge request c проведенным анализом."
   ]
  },
  {
   "cell_type": "code",
   "execution_count": 1,
   "id": "a8ed39ad",
   "metadata": {},
   "outputs": [],
   "source": [
    "# импорт библиотек\n",
    "import pandahouse\n",
    "import seaborn as sns\n",
    "from scipy import stats\n",
    "from random import sample\n",
    "import numpy as np"
   ]
  },
  {
   "cell_type": "code",
   "execution_count": 2,
   "id": "cf4618f2",
   "metadata": {},
   "outputs": [],
   "source": [
    "# для соединения с БД\n",
    "connection = {\n",
    "'host': 'https://clickhouse.lab.karpov.courses',\n",
    "'password': '************',\n",
    "'user': '*********',\n",
    "'database': 'simulator_20230220'\n",
    "}"
   ]
  },
  {
   "cell_type": "code",
   "execution_count": 3,
   "id": "67779787",
   "metadata": {},
   "outputs": [
    {
     "data": {
      "text/html": [
       "<div>\n",
       "<style scoped>\n",
       "    .dataframe tbody tr th:only-of-type {\n",
       "        vertical-align: middle;\n",
       "    }\n",
       "\n",
       "    .dataframe tbody tr th {\n",
       "        vertical-align: top;\n",
       "    }\n",
       "\n",
       "    .dataframe thead th {\n",
       "        text-align: right;\n",
       "    }\n",
       "</style>\n",
       "<table border=\"1\" class=\"dataframe\">\n",
       "  <thead>\n",
       "    <tr style=\"text-align: right;\">\n",
       "      <th></th>\n",
       "      <th>exp_group</th>\n",
       "      <th>user_id</th>\n",
       "      <th>likes</th>\n",
       "      <th>views</th>\n",
       "      <th>ctr</th>\n",
       "    </tr>\n",
       "  </thead>\n",
       "  <tbody>\n",
       "    <tr>\n",
       "      <th>0</th>\n",
       "      <td>2</td>\n",
       "      <td>131473</td>\n",
       "      <td>26</td>\n",
       "      <td>148</td>\n",
       "      <td>0.175676</td>\n",
       "    </tr>\n",
       "    <tr>\n",
       "      <th>1</th>\n",
       "      <td>2</td>\n",
       "      <td>23985</td>\n",
       "      <td>12</td>\n",
       "      <td>66</td>\n",
       "      <td>0.181818</td>\n",
       "    </tr>\n",
       "    <tr>\n",
       "      <th>2</th>\n",
       "      <td>2</td>\n",
       "      <td>24523</td>\n",
       "      <td>17</td>\n",
       "      <td>120</td>\n",
       "      <td>0.141667</td>\n",
       "    </tr>\n",
       "    <tr>\n",
       "      <th>3</th>\n",
       "      <td>2</td>\n",
       "      <td>24239</td>\n",
       "      <td>53</td>\n",
       "      <td>119</td>\n",
       "      <td>0.445378</td>\n",
       "    </tr>\n",
       "    <tr>\n",
       "      <th>4</th>\n",
       "      <td>2</td>\n",
       "      <td>14680</td>\n",
       "      <td>8</td>\n",
       "      <td>70</td>\n",
       "      <td>0.114286</td>\n",
       "    </tr>\n",
       "  </tbody>\n",
       "</table>\n",
       "</div>"
      ],
      "text/plain": [
       "   exp_group  user_id  likes  views       ctr\n",
       "0          2   131473     26    148  0.175676\n",
       "1          2    23985     12     66  0.181818\n",
       "2          2    24523     17    120  0.141667\n",
       "3          2    24239     53    119  0.445378\n",
       "4          2    14680      8     70  0.114286"
      ]
     },
     "execution_count": 3,
     "metadata": {},
     "output_type": "execute_result"
    }
   ],
   "source": [
    "# достаем пользователей и их характеристики из 2 группы\n",
    "q_users_2_group = \"\"\"\n",
    "SELECT \n",
    "    exp_group, \n",
    "    user_id,\n",
    "    sum(action = 'like') as likes,\n",
    "    sum(action = 'view') as views,\n",
    "    likes/views as ctr\n",
    "FROM \n",
    "    simulator_20230220.feed_actions \n",
    "WHERE \n",
    "    toDate(time) between '2023-01-24' and '2023-01-30'\n",
    "    and exp_group = 2\n",
    "GROUP BY\n",
    "    exp_group, \n",
    "    user_id\n",
    "\"\"\"\n",
    "\n",
    "users_2_group_df = pandahouse.read_clickhouse(q_users_2_group, connection=connection)\n",
    "\n",
    "users_2_group_df.head()"
   ]
  },
  {
   "cell_type": "code",
   "execution_count": 4,
   "id": "ff46364d",
   "metadata": {},
   "outputs": [
    {
     "data": {
      "text/html": [
       "<div>\n",
       "<style scoped>\n",
       "    .dataframe tbody tr th:only-of-type {\n",
       "        vertical-align: middle;\n",
       "    }\n",
       "\n",
       "    .dataframe tbody tr th {\n",
       "        vertical-align: top;\n",
       "    }\n",
       "\n",
       "    .dataframe thead th {\n",
       "        text-align: right;\n",
       "    }\n",
       "</style>\n",
       "<table border=\"1\" class=\"dataframe\">\n",
       "  <thead>\n",
       "    <tr style=\"text-align: right;\">\n",
       "      <th></th>\n",
       "      <th>exp_group</th>\n",
       "      <th>user_id</th>\n",
       "      <th>likes</th>\n",
       "      <th>views</th>\n",
       "      <th>ctr</th>\n",
       "    </tr>\n",
       "  </thead>\n",
       "  <tbody>\n",
       "    <tr>\n",
       "      <th>count</th>\n",
       "      <td>8480.0</td>\n",
       "      <td>8480.000000</td>\n",
       "      <td>8480.000000</td>\n",
       "      <td>8480.000000</td>\n",
       "      <td>8480.000000</td>\n",
       "    </tr>\n",
       "    <tr>\n",
       "      <th>mean</th>\n",
       "      <td>2.0</td>\n",
       "      <td>69282.766981</td>\n",
       "      <td>15.534198</td>\n",
       "      <td>73.493868</td>\n",
       "      <td>0.218246</td>\n",
       "    </tr>\n",
       "    <tr>\n",
       "      <th>std</th>\n",
       "      <td>0.0</td>\n",
       "      <td>53428.421103</td>\n",
       "      <td>10.814642</td>\n",
       "      <td>48.332066</td>\n",
       "      <td>0.080643</td>\n",
       "    </tr>\n",
       "    <tr>\n",
       "      <th>min</th>\n",
       "      <td>2.0</td>\n",
       "      <td>218.000000</td>\n",
       "      <td>0.000000</td>\n",
       "      <td>1.000000</td>\n",
       "      <td>0.000000</td>\n",
       "    </tr>\n",
       "    <tr>\n",
       "      <th>25%</th>\n",
       "      <td>2.0</td>\n",
       "      <td>16156.750000</td>\n",
       "      <td>7.000000</td>\n",
       "      <td>36.000000</td>\n",
       "      <td>0.164451</td>\n",
       "    </tr>\n",
       "    <tr>\n",
       "      <th>50%</th>\n",
       "      <td>2.0</td>\n",
       "      <td>107779.500000</td>\n",
       "      <td>13.000000</td>\n",
       "      <td>64.000000</td>\n",
       "      <td>0.205882</td>\n",
       "    </tr>\n",
       "    <tr>\n",
       "      <th>75%</th>\n",
       "      <td>2.0</td>\n",
       "      <td>121660.000000</td>\n",
       "      <td>21.000000</td>\n",
       "      <td>100.000000</td>\n",
       "      <td>0.260870</td>\n",
       "    </tr>\n",
       "    <tr>\n",
       "      <th>max</th>\n",
       "      <td>2.0</td>\n",
       "      <td>133642.000000</td>\n",
       "      <td>83.000000</td>\n",
       "      <td>364.000000</td>\n",
       "      <td>0.714286</td>\n",
       "    </tr>\n",
       "  </tbody>\n",
       "</table>\n",
       "</div>"
      ],
      "text/plain": [
       "       exp_group        user_id        likes        views          ctr\n",
       "count     8480.0    8480.000000  8480.000000  8480.000000  8480.000000\n",
       "mean         2.0   69282.766981    15.534198    73.493868     0.218246\n",
       "std          0.0   53428.421103    10.814642    48.332066     0.080643\n",
       "min          2.0     218.000000     0.000000     1.000000     0.000000\n",
       "25%          2.0   16156.750000     7.000000    36.000000     0.164451\n",
       "50%          2.0  107779.500000    13.000000    64.000000     0.205882\n",
       "75%          2.0  121660.000000    21.000000   100.000000     0.260870\n",
       "max          2.0  133642.000000    83.000000   364.000000     0.714286"
      ]
     },
     "execution_count": 4,
     "metadata": {},
     "output_type": "execute_result"
    }
   ],
   "source": [
    "# по привычке смотрим общее описание полученного датафрейма\n",
    "users_2_group_df.describe()"
   ]
  },
  {
   "cell_type": "code",
   "execution_count": 5,
   "id": "292bf96a",
   "metadata": {},
   "outputs": [
    {
     "data": {
      "text/html": [
       "<div>\n",
       "<style scoped>\n",
       "    .dataframe tbody tr th:only-of-type {\n",
       "        vertical-align: middle;\n",
       "    }\n",
       "\n",
       "    .dataframe tbody tr th {\n",
       "        vertical-align: top;\n",
       "    }\n",
       "\n",
       "    .dataframe thead th {\n",
       "        text-align: right;\n",
       "    }\n",
       "</style>\n",
       "<table border=\"1\" class=\"dataframe\">\n",
       "  <thead>\n",
       "    <tr style=\"text-align: right;\">\n",
       "      <th></th>\n",
       "      <th>exp_group</th>\n",
       "      <th>user_id</th>\n",
       "      <th>likes</th>\n",
       "      <th>views</th>\n",
       "      <th>ctr</th>\n",
       "    </tr>\n",
       "  </thead>\n",
       "  <tbody>\n",
       "    <tr>\n",
       "      <th>0</th>\n",
       "      <td>3</td>\n",
       "      <td>115383</td>\n",
       "      <td>11</td>\n",
       "      <td>36</td>\n",
       "      <td>0.305556</td>\n",
       "    </tr>\n",
       "    <tr>\n",
       "      <th>1</th>\n",
       "      <td>3</td>\n",
       "      <td>123580</td>\n",
       "      <td>15</td>\n",
       "      <td>92</td>\n",
       "      <td>0.163043</td>\n",
       "    </tr>\n",
       "    <tr>\n",
       "      <th>2</th>\n",
       "      <td>3</td>\n",
       "      <td>19647</td>\n",
       "      <td>21</td>\n",
       "      <td>146</td>\n",
       "      <td>0.143836</td>\n",
       "    </tr>\n",
       "    <tr>\n",
       "      <th>3</th>\n",
       "      <td>3</td>\n",
       "      <td>107670</td>\n",
       "      <td>25</td>\n",
       "      <td>115</td>\n",
       "      <td>0.217391</td>\n",
       "    </tr>\n",
       "    <tr>\n",
       "      <th>4</th>\n",
       "      <td>3</td>\n",
       "      <td>126702</td>\n",
       "      <td>3</td>\n",
       "      <td>12</td>\n",
       "      <td>0.250000</td>\n",
       "    </tr>\n",
       "  </tbody>\n",
       "</table>\n",
       "</div>"
      ],
      "text/plain": [
       "   exp_group  user_id  likes  views       ctr\n",
       "0          3   115383     11     36  0.305556\n",
       "1          3   123580     15     92  0.163043\n",
       "2          3    19647     21    146  0.143836\n",
       "3          3   107670     25    115  0.217391\n",
       "4          3   126702      3     12  0.250000"
      ]
     },
     "execution_count": 5,
     "metadata": {},
     "output_type": "execute_result"
    }
   ],
   "source": [
    "# достаем пользователей и их характеристики из 3 группы\n",
    "q_users_3_group = \"\"\"\n",
    "SELECT \n",
    "    exp_group, \n",
    "    user_id,\n",
    "    sum(action = 'like') as likes,\n",
    "    sum(action = 'view') as views,\n",
    "    likes/views as ctr\n",
    "FROM \n",
    "    simulator_20230220.feed_actions \n",
    "WHERE \n",
    "    toDate(time) between '2023-01-24' and '2023-01-30'\n",
    "    and exp_group = 3\n",
    "GROUP BY\n",
    "    exp_group,\n",
    "    user_id\n",
    "\"\"\"\n",
    "\n",
    "users_3_group_df = pandahouse.read_clickhouse(q_users_3_group, connection=connection)\n",
    "\n",
    "users_3_group_df.head()"
   ]
  },
  {
   "cell_type": "code",
   "execution_count": 6,
   "id": "9d1ef40b",
   "metadata": {},
   "outputs": [
    {
     "data": {
      "text/html": [
       "<div>\n",
       "<style scoped>\n",
       "    .dataframe tbody tr th:only-of-type {\n",
       "        vertical-align: middle;\n",
       "    }\n",
       "\n",
       "    .dataframe tbody tr th {\n",
       "        vertical-align: top;\n",
       "    }\n",
       "\n",
       "    .dataframe thead th {\n",
       "        text-align: right;\n",
       "    }\n",
       "</style>\n",
       "<table border=\"1\" class=\"dataframe\">\n",
       "  <thead>\n",
       "    <tr style=\"text-align: right;\">\n",
       "      <th></th>\n",
       "      <th>exp_group</th>\n",
       "      <th>user_id</th>\n",
       "      <th>likes</th>\n",
       "      <th>views</th>\n",
       "      <th>ctr</th>\n",
       "    </tr>\n",
       "  </thead>\n",
       "  <tbody>\n",
       "    <tr>\n",
       "      <th>count</th>\n",
       "      <td>8569.0</td>\n",
       "      <td>8569.000000</td>\n",
       "      <td>8569.000000</td>\n",
       "      <td>8569.000000</td>\n",
       "      <td>8569.000000</td>\n",
       "    </tr>\n",
       "    <tr>\n",
       "      <th>mean</th>\n",
       "      <td>3.0</td>\n",
       "      <td>69522.305520</td>\n",
       "      <td>15.612790</td>\n",
       "      <td>74.097678</td>\n",
       "      <td>0.219161</td>\n",
       "    </tr>\n",
       "    <tr>\n",
       "      <th>std</th>\n",
       "      <td>0.0</td>\n",
       "      <td>53281.229624</td>\n",
       "      <td>10.663215</td>\n",
       "      <td>49.081302</td>\n",
       "      <td>0.080932</td>\n",
       "    </tr>\n",
       "    <tr>\n",
       "      <th>min</th>\n",
       "      <td>3.0</td>\n",
       "      <td>200.000000</td>\n",
       "      <td>0.000000</td>\n",
       "      <td>2.000000</td>\n",
       "      <td>0.000000</td>\n",
       "    </tr>\n",
       "    <tr>\n",
       "      <th>25%</th>\n",
       "      <td>3.0</td>\n",
       "      <td>16332.000000</td>\n",
       "      <td>8.000000</td>\n",
       "      <td>36.000000</td>\n",
       "      <td>0.166667</td>\n",
       "    </tr>\n",
       "    <tr>\n",
       "      <th>50%</th>\n",
       "      <td>3.0</td>\n",
       "      <td>108007.000000</td>\n",
       "      <td>13.000000</td>\n",
       "      <td>64.000000</td>\n",
       "      <td>0.206612</td>\n",
       "    </tr>\n",
       "    <tr>\n",
       "      <th>75%</th>\n",
       "      <td>3.0</td>\n",
       "      <td>121563.000000</td>\n",
       "      <td>21.000000</td>\n",
       "      <td>102.000000</td>\n",
       "      <td>0.261538</td>\n",
       "    </tr>\n",
       "    <tr>\n",
       "      <th>max</th>\n",
       "      <td>3.0</td>\n",
       "      <td>133635.000000</td>\n",
       "      <td>83.000000</td>\n",
       "      <td>369.000000</td>\n",
       "      <td>0.714286</td>\n",
       "    </tr>\n",
       "  </tbody>\n",
       "</table>\n",
       "</div>"
      ],
      "text/plain": [
       "       exp_group        user_id        likes        views          ctr\n",
       "count     8569.0    8569.000000  8569.000000  8569.000000  8569.000000\n",
       "mean         3.0   69522.305520    15.612790    74.097678     0.219161\n",
       "std          0.0   53281.229624    10.663215    49.081302     0.080932\n",
       "min          3.0     200.000000     0.000000     2.000000     0.000000\n",
       "25%          3.0   16332.000000     8.000000    36.000000     0.166667\n",
       "50%          3.0  108007.000000    13.000000    64.000000     0.206612\n",
       "75%          3.0  121563.000000    21.000000   102.000000     0.261538\n",
       "max          3.0  133635.000000    83.000000   369.000000     0.714286"
      ]
     },
     "execution_count": 6,
     "metadata": {},
     "output_type": "execute_result"
    }
   ],
   "source": [
    "# по привычке смотрим общее описание полученного датафрейма\n",
    "users_3_group_df.describe()"
   ]
  },
  {
   "cell_type": "markdown",
   "id": "010a096a",
   "metadata": {},
   "source": [
    "**В группах 2 и 3 приблизительно одинаковое количество пользователей, очень близкие значения средних, стандартного отклонения, медианы.  \n",
    "Нулевая гипотеза (Н0): Система сплитования работает корректно, группы 2 и 3 приблизительно одинаковые.  \n",
    "Альтернативная гипотеза (Н1): Система сплитования работает некорректно, в группах 2 и 3 имеются значимые различия.  \n",
    "Продолжаем анализ.**"
   ]
  },
  {
   "cell_type": "code",
   "execution_count": 7,
   "id": "3f6b486b",
   "metadata": {},
   "outputs": [],
   "source": [
    "# формируем подвыборку по 500 пользователей из каждой группы (без повторения), проводим Т-тест, записываем p-value,\n",
    "# повторяем 10000 раз \n",
    "\n",
    "p_values = []\n",
    "for i in range(10000):\n",
    "    samples_2_group = users_2_group_df.sample(500, replace=False)\n",
    "    samples_3_group = users_3_group_df.sample(500, replace=False)\n",
    "    t_test = stats.ttest_ind(samples_2_group.ctr, samples_3_group.ctr, equal_var=False)\n",
    "    p_values.append(t_test[1])"
   ]
  },
  {
   "cell_type": "code",
   "execution_count": 8,
   "id": "d556ccc3",
   "metadata": {},
   "outputs": [
    {
     "data": {
      "text/plain": [
       "10000"
      ]
     },
     "execution_count": 8,
     "metadata": {},
     "output_type": "execute_result"
    }
   ],
   "source": [
    "# проверяем длину полученного списка p-value\n",
    "len(p_values)"
   ]
  },
  {
   "cell_type": "code",
   "execution_count": 9,
   "id": "c3169ca0",
   "metadata": {},
   "outputs": [
    {
     "data": {
      "image/png": "[encoded data removed]",
      "text/plain": [
       "<Figure size 1440x720 with 1 Axes>"
      ]
     },
     "metadata": {},
     "output_type": "display_data"
    }
   ],
   "source": [
    "# Строим гистограмму распределения получившихся 10000 p-values\n",
    "\n",
    "sns.set(rc={'figure.figsize':(20,10)})\n",
    "\n",
    "groups = sns.histplot(data = p_values, \n",
    "             stat='count', bins=40)"
   ]
  },
  {
   "cell_type": "code",
   "execution_count": 10,
   "id": "76ada352",
   "metadata": {},
   "outputs": [
    {
     "data": {
      "text/plain": [
       "458"
      ]
     },
     "execution_count": 10,
     "metadata": {},
     "output_type": "execute_result"
    }
   ],
   "source": [
    "# Считаем количество p-value менее 0,05\n",
    "\n",
    "count_for_005 = 0\n",
    "for el in p_values:\n",
    "    if el <= 0.05:\n",
    "        count_for_005 += 1\n",
    "count_for_005"
   ]
  },
  {
   "cell_type": "code",
   "execution_count": 11,
   "id": "d617ac04",
   "metadata": {},
   "outputs": [
    {
     "data": {
      "text/plain": [
       "'4.58 % p-values оказались меньше или равны 0,05'"
      ]
     },
     "execution_count": 11,
     "metadata": {},
     "output_type": "execute_result"
    }
   ],
   "source": [
    "# Считаем процент p-value менее 0,05\n",
    "percent_for_005 = 100 * count_for_005 / len(p_values)\n",
    "f'{percent_for_005} % p-values оказались меньше или равны 0,05'"
   ]
  },
  {
   "cell_type": "markdown",
   "id": "7071fe7b",
   "metadata": {},
   "source": [
    "## Обсуждение результатов\n",
    "**Итак, при оценке полученных p-values у нас получилось непрерывное равномерное распределение (uniform distribution), 4.74 % p-values оказались меньше или равны 0,05.  \n",
    "Следовательно, нулевая гипотеза верна и система сплитования работает корректно, ключевая метрика не отличается между группами.**"
   ]
  }
 ],
 "metadata": {
  "kernelspec": {
   "display_name": "Python 3 (ipykernel)",
   "language": "python",
   "name": "python3"
  },
  "language_info": {
   "codemirror_mode": {
    "name": "ipython",
    "version": 3
   },
   "file_extension": ".py",
   "mimetype": "text/x-python",
   "name": "python",
   "nbconvert_exporter": "python",
   "pygments_lexer": "ipython3",
   "version": "3.9.13"
  }
 },
 "nbformat": 4,
 "nbformat_minor": 5
}

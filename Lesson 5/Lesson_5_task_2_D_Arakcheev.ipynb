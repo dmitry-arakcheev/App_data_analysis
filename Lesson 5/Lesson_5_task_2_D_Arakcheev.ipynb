{
 "cells": [
  {
   "cell_type": "markdown",
   "metadata": {},
   "source": [
    "## Задание\n",
    "Эксперимент проходил с 2023-01-31 по 2023-02-06 включительно. Для эксперимента были задействованы 2 и 1 группы.  \n",
    "В группе 2 был использован один из новых алгоритмов рекомендации постов, группа 1 использовалась в качестве контроля.  \n",
    "Основная гипотеза заключается в том, что новый алгоритм во 2-й группе приведет к увеличению CTR.  \n",
    "Ваша задача — проанализировать данные АB-теста. \n",
    "\n",
    "1. Выбрать метод анализа и сравнить CTR в двух группах (t-тест, Пуассоновский бутстреп, тест Манна-Уитни, t-тест на сглаженном ctr (α=5) а также t-тест и тест Манна-Уитни поверх бакетного преобразования).\n",
    "2. Сравните данные этими тестами. А еще посмотрите на распределения глазами. Почему тесты сработали так как сработали? \n",
    "3. Опишите потенциальную ситуацию, когда такое изменение могло произойти. Тут нет идеального ответа, подумайте.\n",
    "4. Напишите рекомендацию, будем ли мы раскатывать новый алгоритм на всех новых пользователей или все-таки не стоит."
   ]
  },
  {
   "cell_type": "code",
   "execution_count": 1,
   "metadata": {},
   "outputs": [],
   "source": [
    "# импорт библиотек\n",
    "\n",
    "import pandahouse\n",
    "import seaborn as sns\n",
    "from scipy import stats\n",
    "from random import sample\n",
    "import numpy as np"
   ]
  },
  {
   "cell_type": "code",
   "execution_count": 2,
   "metadata": {},
   "outputs": [],
   "source": [
    "# для соединения с БД\n",
    "\n",
    "connection = {\n",
    "'host': 'https://clickhouse.lab.karpov.courses',\n",
    "'password': '************',\n",
    "'user': '********',\n",
    "'database': 'simulator_20230220'\n",
    "}"
   ]
  },
  {
   "cell_type": "code",
   "execution_count": 3,
   "metadata": {},
   "outputs": [
    {
     "data": {
      "text/html": [
       "<div>\n",
       "<style scoped>\n",
       "    .dataframe tbody tr th:only-of-type {\n",
       "        vertical-align: middle;\n",
       "    }\n",
       "\n",
       "    .dataframe tbody tr th {\n",
       "        vertical-align: top;\n",
       "    }\n",
       "\n",
       "    .dataframe thead th {\n",
       "        text-align: right;\n",
       "    }\n",
       "</style>\n",
       "<table border=\"1\" class=\"dataframe\">\n",
       "  <thead>\n",
       "    <tr style=\"text-align: right;\">\n",
       "      <th></th>\n",
       "      <th>exp_group</th>\n",
       "      <th>user_id</th>\n",
       "      <th>likes</th>\n",
       "      <th>views</th>\n",
       "      <th>ctr</th>\n",
       "    </tr>\n",
       "  </thead>\n",
       "  <tbody>\n",
       "    <tr>\n",
       "      <th>0</th>\n",
       "      <td>2</td>\n",
       "      <td>131473</td>\n",
       "      <td>14</td>\n",
       "      <td>134</td>\n",
       "      <td>0.104478</td>\n",
       "    </tr>\n",
       "    <tr>\n",
       "      <th>1</th>\n",
       "      <td>2</td>\n",
       "      <td>23985</td>\n",
       "      <td>7</td>\n",
       "      <td>87</td>\n",
       "      <td>0.080460</td>\n",
       "    </tr>\n",
       "    <tr>\n",
       "      <th>2</th>\n",
       "      <td>2</td>\n",
       "      <td>24523</td>\n",
       "      <td>11</td>\n",
       "      <td>101</td>\n",
       "      <td>0.108911</td>\n",
       "    </tr>\n",
       "    <tr>\n",
       "      <th>3</th>\n",
       "      <td>2</td>\n",
       "      <td>32420</td>\n",
       "      <td>26</td>\n",
       "      <td>128</td>\n",
       "      <td>0.203125</td>\n",
       "    </tr>\n",
       "    <tr>\n",
       "      <th>4</th>\n",
       "      <td>2</td>\n",
       "      <td>24239</td>\n",
       "      <td>40</td>\n",
       "      <td>90</td>\n",
       "      <td>0.444444</td>\n",
       "    </tr>\n",
       "  </tbody>\n",
       "</table>\n",
       "</div>"
      ],
      "text/plain": [
       "   exp_group  user_id  likes  views       ctr\n",
       "0          2   131473     14    134  0.104478\n",
       "1          2    23985      7     87  0.080460\n",
       "2          2    24523     11    101  0.108911\n",
       "3          2    32420     26    128  0.203125\n",
       "4          2    24239     40     90  0.444444"
      ]
     },
     "execution_count": 3,
     "metadata": {},
     "output_type": "execute_result"
    }
   ],
   "source": [
    "# достаем пользователей и их характеристики из 2 группы\n",
    "\n",
    "q_users_2_group = \"\"\"\n",
    "SELECT\n",
    "    exp_group, \n",
    "    user_id,\n",
    "    SUM(action = 'like') as likes,\n",
    "    SUM(action = 'view') as views,\n",
    "    likes/views as ctr\n",
    "FROM \n",
    "    simulator_20230220.feed_actions \n",
    "WHERE \n",
    "    toDate(time) BETWEEN '2023-01-31' AND '2023-02-06'\n",
    "    AND exp_group = 2\n",
    "GROUP BY \n",
    "    exp_group,\n",
    "    user_id\n",
    "\"\"\"\n",
    "\n",
    "users_2_group_df = pandahouse.read_clickhouse(q_users_2_group, connection=connection)\n",
    "\n",
    "users_2_group_df.head()"
   ]
  },
  {
   "cell_type": "code",
   "execution_count": 4,
   "metadata": {},
   "outputs": [
    {
     "data": {
      "text/html": [
       "<div>\n",
       "<style scoped>\n",
       "    .dataframe tbody tr th:only-of-type {\n",
       "        vertical-align: middle;\n",
       "    }\n",
       "\n",
       "    .dataframe tbody tr th {\n",
       "        vertical-align: top;\n",
       "    }\n",
       "\n",
       "    .dataframe thead th {\n",
       "        text-align: right;\n",
       "    }\n",
       "</style>\n",
       "<table border=\"1\" class=\"dataframe\">\n",
       "  <thead>\n",
       "    <tr style=\"text-align: right;\">\n",
       "      <th></th>\n",
       "      <th>exp_group</th>\n",
       "      <th>user_id</th>\n",
       "      <th>likes</th>\n",
       "      <th>views</th>\n",
       "      <th>ctr</th>\n",
       "    </tr>\n",
       "  </thead>\n",
       "  <tbody>\n",
       "    <tr>\n",
       "      <th>count</th>\n",
       "      <td>9952.0</td>\n",
       "      <td>9952.000000</td>\n",
       "      <td>9952.000000</td>\n",
       "      <td>9952.000000</td>\n",
       "      <td>9952.000000</td>\n",
       "    </tr>\n",
       "    <tr>\n",
       "      <th>mean</th>\n",
       "      <td>2.0</td>\n",
       "      <td>75142.800543</td>\n",
       "      <td>13.101387</td>\n",
       "      <td>66.148513</td>\n",
       "      <td>0.214419</td>\n",
       "    </tr>\n",
       "    <tr>\n",
       "      <th>std</th>\n",
       "      <td>0.0</td>\n",
       "      <td>53315.378033</td>\n",
       "      <td>11.838030</td>\n",
       "      <td>45.151210</td>\n",
       "      <td>0.144180</td>\n",
       "    </tr>\n",
       "    <tr>\n",
       "      <th>min</th>\n",
       "      <td>2.0</td>\n",
       "      <td>220.000000</td>\n",
       "      <td>0.000000</td>\n",
       "      <td>1.000000</td>\n",
       "      <td>0.000000</td>\n",
       "    </tr>\n",
       "    <tr>\n",
       "      <th>25%</th>\n",
       "      <td>2.0</td>\n",
       "      <td>21904.250000</td>\n",
       "      <td>5.000000</td>\n",
       "      <td>32.000000</td>\n",
       "      <td>0.095238</td>\n",
       "    </tr>\n",
       "    <tr>\n",
       "      <th>50%</th>\n",
       "      <td>2.0</td>\n",
       "      <td>109112.500000</td>\n",
       "      <td>9.000000</td>\n",
       "      <td>56.000000</td>\n",
       "      <td>0.142857</td>\n",
       "    </tr>\n",
       "    <tr>\n",
       "      <th>75%</th>\n",
       "      <td>2.0</td>\n",
       "      <td>126228.250000</td>\n",
       "      <td>17.000000</td>\n",
       "      <td>91.000000</td>\n",
       "      <td>0.325000</td>\n",
       "    </tr>\n",
       "    <tr>\n",
       "      <th>max</th>\n",
       "      <td>2.0</td>\n",
       "      <td>141164.000000</td>\n",
       "      <td>95.000000</td>\n",
       "      <td>321.000000</td>\n",
       "      <td>0.923077</td>\n",
       "    </tr>\n",
       "  </tbody>\n",
       "</table>\n",
       "</div>"
      ],
      "text/plain": [
       "       exp_group        user_id        likes        views          ctr\n",
       "count     9952.0    9952.000000  9952.000000  9952.000000  9952.000000\n",
       "mean         2.0   75142.800543    13.101387    66.148513     0.214419\n",
       "std          0.0   53315.378033    11.838030    45.151210     0.144180\n",
       "min          2.0     220.000000     0.000000     1.000000     0.000000\n",
       "25%          2.0   21904.250000     5.000000    32.000000     0.095238\n",
       "50%          2.0  109112.500000     9.000000    56.000000     0.142857\n",
       "75%          2.0  126228.250000    17.000000    91.000000     0.325000\n",
       "max          2.0  141164.000000    95.000000   321.000000     0.923077"
      ]
     },
     "execution_count": 4,
     "metadata": {},
     "output_type": "execute_result"
    }
   ],
   "source": [
    "# смотрим общее описание полученного датафрейма\n",
    "\n",
    "users_2_group_df.describe()"
   ]
  },
  {
   "cell_type": "code",
   "execution_count": 5,
   "metadata": {},
   "outputs": [
    {
     "data": {
      "text/html": [
       "<div>\n",
       "<style scoped>\n",
       "    .dataframe tbody tr th:only-of-type {\n",
       "        vertical-align: middle;\n",
       "    }\n",
       "\n",
       "    .dataframe tbody tr th {\n",
       "        vertical-align: top;\n",
       "    }\n",
       "\n",
       "    .dataframe thead th {\n",
       "        text-align: right;\n",
       "    }\n",
       "</style>\n",
       "<table border=\"1\" class=\"dataframe\">\n",
       "  <thead>\n",
       "    <tr style=\"text-align: right;\">\n",
       "      <th></th>\n",
       "      <th>exp_group</th>\n",
       "      <th>user_id</th>\n",
       "      <th>likes</th>\n",
       "      <th>views</th>\n",
       "      <th>ctr</th>\n",
       "    </tr>\n",
       "  </thead>\n",
       "  <tbody>\n",
       "    <tr>\n",
       "      <th>0</th>\n",
       "      <td>1</td>\n",
       "      <td>109963</td>\n",
       "      <td>3</td>\n",
       "      <td>15</td>\n",
       "      <td>0.200000</td>\n",
       "    </tr>\n",
       "    <tr>\n",
       "      <th>1</th>\n",
       "      <td>1</td>\n",
       "      <td>26117</td>\n",
       "      <td>32</td>\n",
       "      <td>141</td>\n",
       "      <td>0.226950</td>\n",
       "    </tr>\n",
       "    <tr>\n",
       "      <th>2</th>\n",
       "      <td>1</td>\n",
       "      <td>138232</td>\n",
       "      <td>18</td>\n",
       "      <td>73</td>\n",
       "      <td>0.246575</td>\n",
       "    </tr>\n",
       "    <tr>\n",
       "      <th>3</th>\n",
       "      <td>1</td>\n",
       "      <td>26295</td>\n",
       "      <td>33</td>\n",
       "      <td>122</td>\n",
       "      <td>0.270492</td>\n",
       "    </tr>\n",
       "    <tr>\n",
       "      <th>4</th>\n",
       "      <td>1</td>\n",
       "      <td>18392</td>\n",
       "      <td>7</td>\n",
       "      <td>32</td>\n",
       "      <td>0.218750</td>\n",
       "    </tr>\n",
       "  </tbody>\n",
       "</table>\n",
       "</div>"
      ],
      "text/plain": [
       "   exp_group  user_id  likes  views       ctr\n",
       "0          1   109963      3     15  0.200000\n",
       "1          1    26117     32    141  0.226950\n",
       "2          1   138232     18     73  0.246575\n",
       "3          1    26295     33    122  0.270492\n",
       "4          1    18392      7     32  0.218750"
      ]
     },
     "execution_count": 5,
     "metadata": {},
     "output_type": "execute_result"
    }
   ],
   "source": [
    "# достаем пользователей и их характеристики из 1 группы (контрольная группа)\n",
    "\n",
    "q_users_1_group = \"\"\"\n",
    "SELECT \n",
    "    exp_group, \n",
    "    user_id,\n",
    "    SUM(action = 'like') as likes,\n",
    "    SUM(action = 'view') as views,\n",
    "    likes/views as ctr\n",
    "FROM \n",
    "    simulator_20230220.feed_actions \n",
    "WHERE \n",
    "    toDate(time) BETWEEN '2023-01-31' AND '2023-02-06'\n",
    "    AND exp_group = 1\n",
    "GROUP BY\n",
    "    exp_group,\n",
    "    user_id\n",
    "\"\"\"\n",
    "\n",
    "users_1_group_df = pandahouse.read_clickhouse(q_users_1_group, connection=connection)\n",
    "\n",
    "users_1_group_df.head()"
   ]
  },
  {
   "cell_type": "code",
   "execution_count": 6,
   "metadata": {},
   "outputs": [
    {
     "data": {
      "text/html": [
       "<div>\n",
       "<style scoped>\n",
       "    .dataframe tbody tr th:only-of-type {\n",
       "        vertical-align: middle;\n",
       "    }\n",
       "\n",
       "    .dataframe tbody tr th {\n",
       "        vertical-align: top;\n",
       "    }\n",
       "\n",
       "    .dataframe thead th {\n",
       "        text-align: right;\n",
       "    }\n",
       "</style>\n",
       "<table border=\"1\" class=\"dataframe\">\n",
       "  <thead>\n",
       "    <tr style=\"text-align: right;\">\n",
       "      <th></th>\n",
       "      <th>exp_group</th>\n",
       "      <th>user_id</th>\n",
       "      <th>likes</th>\n",
       "      <th>views</th>\n",
       "      <th>ctr</th>\n",
       "    </tr>\n",
       "  </thead>\n",
       "  <tbody>\n",
       "    <tr>\n",
       "      <th>count</th>\n",
       "      <td>10079.0</td>\n",
       "      <td>10079.000000</td>\n",
       "      <td>10079.000000</td>\n",
       "      <td>10079.000000</td>\n",
       "      <td>10079.000000</td>\n",
       "    </tr>\n",
       "    <tr>\n",
       "      <th>mean</th>\n",
       "      <td>1.0</td>\n",
       "      <td>75540.955948</td>\n",
       "      <td>13.792142</td>\n",
       "      <td>66.299831</td>\n",
       "      <td>0.215605</td>\n",
       "    </tr>\n",
       "    <tr>\n",
       "      <th>std</th>\n",
       "      <td>0.0</td>\n",
       "      <td>53211.834816</td>\n",
       "      <td>9.798990</td>\n",
       "      <td>45.043411</td>\n",
       "      <td>0.084160</td>\n",
       "    </tr>\n",
       "    <tr>\n",
       "      <th>min</th>\n",
       "      <td>1.0</td>\n",
       "      <td>206.000000</td>\n",
       "      <td>0.000000</td>\n",
       "      <td>2.000000</td>\n",
       "      <td>0.000000</td>\n",
       "    </tr>\n",
       "    <tr>\n",
       "      <th>25%</th>\n",
       "      <td>1.0</td>\n",
       "      <td>22227.000000</td>\n",
       "      <td>7.000000</td>\n",
       "      <td>32.000000</td>\n",
       "      <td>0.160097</td>\n",
       "    </tr>\n",
       "    <tr>\n",
       "      <th>50%</th>\n",
       "      <td>1.0</td>\n",
       "      <td>109360.000000</td>\n",
       "      <td>12.000000</td>\n",
       "      <td>56.000000</td>\n",
       "      <td>0.203125</td>\n",
       "    </tr>\n",
       "    <tr>\n",
       "      <th>75%</th>\n",
       "      <td>1.0</td>\n",
       "      <td>126200.500000</td>\n",
       "      <td>19.000000</td>\n",
       "      <td>90.000000</td>\n",
       "      <td>0.257654</td>\n",
       "    </tr>\n",
       "    <tr>\n",
       "      <th>max</th>\n",
       "      <td>1.0</td>\n",
       "      <td>140500.000000</td>\n",
       "      <td>81.000000</td>\n",
       "      <td>311.000000</td>\n",
       "      <td>0.722222</td>\n",
       "    </tr>\n",
       "  </tbody>\n",
       "</table>\n",
       "</div>"
      ],
      "text/plain": [
       "       exp_group        user_id         likes         views           ctr\n",
       "count    10079.0   10079.000000  10079.000000  10079.000000  10079.000000\n",
       "mean         1.0   75540.955948     13.792142     66.299831      0.215605\n",
       "std          0.0   53211.834816      9.798990     45.043411      0.084160\n",
       "min          1.0     206.000000      0.000000      2.000000      0.000000\n",
       "25%          1.0   22227.000000      7.000000     32.000000      0.160097\n",
       "50%          1.0  109360.000000     12.000000     56.000000      0.203125\n",
       "75%          1.0  126200.500000     19.000000     90.000000      0.257654\n",
       "max          1.0  140500.000000     81.000000    311.000000      0.722222"
      ]
     },
     "execution_count": 6,
     "metadata": {},
     "output_type": "execute_result"
    }
   ],
   "source": [
    "# смотрим общее описание полученного датафрейма\n",
    "\n",
    "users_1_group_df.describe()"
   ]
  },
  {
   "cell_type": "markdown",
   "metadata": {},
   "source": [
    "**В группах 2 и 1 приблизительно одинаковое количество пользователей и близкие значения средних CTR, однако значения стандартного отклонения и медианы ключевой метрики (CTR) отличаются.   \n",
    "Тем не менее...  \n",
    "Нулевая гипотеза (Н0): Новый алгоритм рекомендаций не привел к изменению поведения пользователей, CTR в группах 1 и 2 приблизительно одинаковые.  \n",
    "Альтернативная гипотеза (Н1): Новый алгоритм рекомендаций привел к изменению поведения пользователей, CTR в группах 1 и 2 имеют значимые отличия.**"
   ]
  },
  {
   "cell_type": "markdown",
   "metadata": {
    "tags": []
   },
   "source": [
    "## T-test"
   ]
  },
  {
   "cell_type": "code",
   "execution_count": 7,
   "metadata": {},
   "outputs": [
    {
     "data": {
      "text/plain": [
       "Ttest_indResult(statistic=0.7094392041270486, pvalue=0.4780623130874935)"
      ]
     },
     "execution_count": 7,
     "metadata": {},
     "output_type": "execute_result"
    }
   ],
   "source": [
    "t_test = stats.ttest_ind(users_1_group_df.ctr, users_2_group_df.ctr, equal_var=False)\n",
    "t_test"
   ]
  },
  {
   "cell_type": "code",
   "execution_count": 8,
   "metadata": {},
   "outputs": [
    {
     "data": {
      "text/plain": [
       "<AxesSubplot:xlabel='ctr', ylabel='Count'>"
      ]
     },
     "execution_count": 8,
     "metadata": {},
     "output_type": "execute_result"
    },
    {
     "data": {
      "image/png": "[encoded data removed]",
      "text/plain": [
       "<Figure size 1440x720 with 1 Axes>"
      ]
     },
     "metadata": {},
     "output_type": "display_data"
    }
   ],
   "source": [
    "# гистограмма ctr по группам\n",
    "\n",
    "sns.set(rc={'figure.figsize':(20,10)})\n",
    "\n",
    "sns.histplot(data = users_1_group_df, x='ctr', alpha=0.5, kde=False, bins = 50)\n",
    "sns.histplot(data = users_2_group_df, x='ctr', alpha=0.5, kde=False, bins = 50)"
   ]
  },
  {
   "cell_type": "markdown",
   "metadata": {},
   "source": [
    "получилось не очень красиво, но, в целом, понятно"
   ]
  },
  {
   "cell_type": "markdown",
   "metadata": {},
   "source": [
    "пробую t-test немного иначе:"
   ]
  },
  {
   "cell_type": "code",
   "execution_count": 9,
   "metadata": {},
   "outputs": [
    {
     "data": {
      "text/plain": [
       "Ttest_indResult(statistic=0.7094392041270486, pvalue=0.4780623130874935)"
      ]
     },
     "execution_count": 9,
     "metadata": {},
     "output_type": "execute_result"
    }
   ],
   "source": [
    "# Повторная проверка (для себя)\n",
    "\n",
    "q = \"\"\"\n",
    "SELECT\n",
    "    exp_group,\n",
    "    user_id,\n",
    "    SUM(action = 'like') as likes,\n",
    "    SUM(action = 'view') as views,\n",
    "    likes/views as ctr\n",
    "FROM \n",
    "    {db}.feed_actions\n",
    "WHERE \n",
    "    toDate(time) BETWEEN '2023-01-31' AND '2023-02-06'\n",
    "    AND exp_group in (1,2)\n",
    "GROUP BY\n",
    "    exp_group,\n",
    "    user_id\n",
    "\"\"\"\n",
    "df = pandahouse.read_clickhouse(q, connection=connection)\n",
    "\n",
    "#T-тест\n",
    "stats.ttest_ind(df[df.exp_group == 1].ctr,\n",
    "                df[df.exp_group == 2].ctr,\n",
    "                equal_var=False)"
   ]
  },
  {
   "cell_type": "code",
   "execution_count": 10,
   "metadata": {},
   "outputs": [
    {
     "data": {
      "image/png": "[encoded data removed]",
      "text/plain": [
       "<Figure size 1440x720 with 1 Axes>"
      ]
     },
     "metadata": {},
     "output_type": "display_data"
    }
   ],
   "source": [
    "groups = sns.histplot(data = df,\n",
    "                      x='ctr',\n",
    "                      hue='exp_group',\n",
    "                      palette = ['r', 'b'], alpha=0.5,\n",
    "                      kde=False, bins = 50)"
   ]
  },
  {
   "cell_type": "markdown",
   "metadata": {},
   "source": [
    "Так гораздо красивее.  \n",
    "\n",
    "**Итак, в контрольной группе (1) унимодальное нормальное распределение ctr. В экспериментальной группе (2) бимодальное распределение ctr. Выглядит так, будто из-за нового алгоритма рекомендаций часть пользователей в группе 2 стали \"лайкать\" чаще, а другая часть пользователей - реже.  \n",
    "При этом t-тест показал p-уровень значимости ~0.475, нулевая гипотеза не отклонена.**"
   ]
  },
  {
   "cell_type": "markdown",
   "metadata": {
    "tags": []
   },
   "source": [
    "## тест Манна-Уитни"
   ]
  },
  {
   "cell_type": "code",
   "execution_count": 11,
   "metadata": {},
   "outputs": [
    {
     "data": {
      "text/plain": [
       "MannwhitneyuResult(statistic=56601260.5, pvalue=6.0376484617779035e-56)"
      ]
     },
     "execution_count": 11,
     "metadata": {},
     "output_type": "execute_result"
    }
   ],
   "source": [
    "t_M_U = stats.mannwhitneyu(users_1_group_df.ctr, users_2_group_df.ctr)\n",
    "t_M_U"
   ]
  },
  {
   "cell_type": "markdown",
   "metadata": {},
   "source": [
    "**Критерий Манна-Уитни показывает, что есть значимые различия в распределении CTR между группами 1 и 2.**"
   ]
  },
  {
   "cell_type": "markdown",
   "metadata": {},
   "source": [
    "## T-test из кликхауса"
   ]
  },
  {
   "cell_type": "code",
   "execution_count": 12,
   "metadata": {},
   "outputs": [
    {
     "data": {
      "text/html": [
       "<div>\n",
       "<style scoped>\n",
       "    .dataframe tbody tr th:only-of-type {\n",
       "        vertical-align: middle;\n",
       "    }\n",
       "\n",
       "    .dataframe tbody tr th {\n",
       "        vertical-align: top;\n",
       "    }\n",
       "\n",
       "    .dataframe thead th {\n",
       "        text-align: right;\n",
       "    }\n",
       "</style>\n",
       "<table border=\"1\" class=\"dataframe\">\n",
       "  <thead>\n",
       "    <tr style=\"text-align: right;\">\n",
       "      <th></th>\n",
       "      <th>statistic</th>\n",
       "      <th>p_value</th>\n",
       "    </tr>\n",
       "  </thead>\n",
       "  <tbody>\n",
       "    <tr>\n",
       "      <th>0</th>\n",
       "      <td>0.709439</td>\n",
       "      <td>0.478062</td>\n",
       "    </tr>\n",
       "  </tbody>\n",
       "</table>\n",
       "</div>"
      ],
      "text/plain": [
       "   statistic   p_value\n",
       "0   0.709439  0.478062"
      ]
     },
     "execution_count": 12,
     "metadata": {},
     "output_type": "execute_result"
    }
   ],
   "source": [
    "# проба t-теста из кликхауса\n",
    "\n",
    "q_ttest_clickh = \"\"\"\n",
    "WITH welchTTest(ctr, exp_index) as ttest\n",
    "SELECT\n",
    "    tupleElement(ttest,1) as statistic,\n",
    "    tupleElement(ttest,2) as p_value\n",
    "FROM \n",
    "    (SELECT\n",
    "            exp_group,\n",
    "            CASE\n",
    "            WHEN exp_group = 1 THEN 0\n",
    "            ELSE 1\n",
    "            END AS exp_index,\n",
    "            user_id,\n",
    "            SUM(action = 'like') as likes,\n",
    "            SUM(action = 'view') as views,\n",
    "            likes/views as ctr\n",
    "     FROM \n",
    "            {db}.feed_actions\n",
    "    WHERE \n",
    "            toDate(time) BETWEEN '2023-01-31' AND '2023-02-06'\n",
    "            AND exp_group in (1,2)\n",
    "    GROUP BY\n",
    "            exp_group,\n",
    "            user_id) AS sq1\n",
    "\"\"\"\n",
    "\n",
    "ttest_clickh = pandahouse.read_clickhouse(q_ttest_clickh, connection=connection)\n",
    "\n",
    "ttest_clickh"
   ]
  },
  {
   "cell_type": "markdown",
   "metadata": {},
   "source": [
    "**t-тест из кликхауса показывает p-value ~0,478, что очень близко к полученному ранее 0,475.**"
   ]
  },
  {
   "cell_type": "markdown",
   "metadata": {},
   "source": [
    "## Тест Манна-Уитни из кликхауса"
   ]
  },
  {
   "cell_type": "code",
   "execution_count": 13,
   "metadata": {},
   "outputs": [
    {
     "data": {
      "text/html": [
       "<div>\n",
       "<style scoped>\n",
       "    .dataframe tbody tr th:only-of-type {\n",
       "        vertical-align: middle;\n",
       "    }\n",
       "\n",
       "    .dataframe tbody tr th {\n",
       "        vertical-align: top;\n",
       "    }\n",
       "\n",
       "    .dataframe thead th {\n",
       "        text-align: right;\n",
       "    }\n",
       "</style>\n",
       "<table border=\"1\" class=\"dataframe\">\n",
       "  <thead>\n",
       "    <tr style=\"text-align: right;\">\n",
       "      <th></th>\n",
       "      <th>statistic</th>\n",
       "      <th>p_value</th>\n",
       "    </tr>\n",
       "  </thead>\n",
       "  <tbody>\n",
       "    <tr>\n",
       "      <th>0</th>\n",
       "      <td>56601260.5</td>\n",
       "      <td>1.655343e-13</td>\n",
       "    </tr>\n",
       "  </tbody>\n",
       "</table>\n",
       "</div>"
      ],
      "text/plain": [
       "    statistic       p_value\n",
       "0  56601260.5  1.655343e-13"
      ]
     },
     "execution_count": 13,
     "metadata": {},
     "output_type": "execute_result"
    }
   ],
   "source": [
    "# проба теста Манна-Уитни из кликхауса\n",
    "\n",
    "q_MWtest_clickh = \"\"\"\n",
    "WITH mannWhitneyUTest('two-sided')(ctr, exp_index) as mw\n",
    "SELECT\n",
    "    tupleElement(mw,1) as statistic,\n",
    "    tupleElement(mw,2) as p_value\n",
    "FROM\n",
    "    (SELECT\n",
    "            exp_group,\n",
    "            CASE\n",
    "            WHEN exp_group = 1 THEN 0\n",
    "            ELSE 1\n",
    "            END AS exp_index, \n",
    "            user_id, \n",
    "            SUM(action = 'like') as likes,\n",
    "            SUM(action = 'view') as views,\n",
    "            likes/views as ctr\n",
    "     FROM\n",
    "            {db}.feed_actions\n",
    "     WHERE\n",
    "             toDate(time) BETWEEN '2023-01-31' AND '2023-02-06'\n",
    "             AND exp_group in (1,2)\n",
    "     GROUP BY\n",
    "             exp_group,\n",
    "             user_id) AS sq2\n",
    "\"\"\"\n",
    "\n",
    "MWtest_clickh = pandahouse.read_clickhouse(q_MWtest_clickh, connection=connection)\n",
    "\n",
    "MWtest_clickh"
   ]
  },
  {
   "cell_type": "markdown",
   "metadata": {},
   "source": [
    "**P-value (1,6e-13) отличается от полученного ранее значения (6,04e-56), но все еще менее 0,05 и показывает, что есть значимые различия в распределении CTR между группами 1 и 2.**"
   ]
  },
  {
   "cell_type": "markdown",
   "metadata": {},
   "source": [
    "## Сглаженный CTR"
   ]
  },
  {
   "cell_type": "markdown",
   "metadata": {},
   "source": [
    "попробуем t-тест на сглаженном CTR"
   ]
  },
  {
   "cell_type": "code",
   "execution_count": 14,
   "metadata": {},
   "outputs": [],
   "source": [
    "def get_smoothed_ctr(user_likes, user_views, global_ctr, alpha):\n",
    "    smoothed_ctr = (user_likes + alpha * global_ctr) / (user_views + alpha)\n",
    "    return smoothed_ctr"
   ]
  },
  {
   "cell_type": "code",
   "execution_count": 15,
   "metadata": {},
   "outputs": [
    {
     "data": {
      "text/plain": [
       "<AxesSubplot:xlabel='ctr', ylabel='Count'>"
      ]
     },
     "execution_count": 15,
     "metadata": {},
     "output_type": "execute_result"
    },
    {
     "data": {
      "image/png": "[encoded data removed]",
      "text/plain": [
       "<Figure size 1440x720 with 1 Axes>"
      ]
     },
     "metadata": {},
     "output_type": "display_data"
    }
   ],
   "source": [
    "q_smoothed_ctr = \"\"\"\n",
    "SELECT\n",
    "    exp_group,\n",
    "    user_id,\n",
    "    SUM(action = 'like') as likes,\n",
    "    SUM(action = 'view') as views,\n",
    "    likes/views as ctr\n",
    "FROM\n",
    "    {db}.feed_actions\n",
    "WHERE\n",
    "    toDate(time) BETWEEN '2023-01-31' AND '2023-02-06'\n",
    "    AND exp_group in (1,2)\n",
    "GROUP BY\n",
    "    exp_group,\n",
    "    user_id\n",
    "\"\"\"\n",
    "smoothed_ctr_df = pandahouse.read_clickhouse(q_smoothed_ctr, connection=connection)\n",
    "global_ctr_1 = smoothed_ctr_df[smoothed_ctr_df.exp_group == 1].likes.sum()/smoothed_ctr_df[smoothed_ctr_df.exp_group == 1].views.sum()\n",
    "global_ctr_2 = smoothed_ctr_df[smoothed_ctr_df.exp_group == 2].likes.sum()/smoothed_ctr_df[smoothed_ctr_df.exp_group == 2].views.sum()\n",
    "\n",
    "group1 = smoothed_ctr_df[smoothed_ctr_df.exp_group == 1].copy()\n",
    "\n",
    "sns.histplot(group1.ctr, kde = False)"
   ]
  },
  {
   "cell_type": "markdown",
   "metadata": {},
   "source": [
    "**Распределение CTR в группе 1.**"
   ]
  },
  {
   "cell_type": "code",
   "execution_count": 16,
   "metadata": {},
   "outputs": [
    {
     "data": {
      "text/plain": [
       "<AxesSubplot:xlabel='smoothed_ctr', ylabel='Count'>"
      ]
     },
     "execution_count": 16,
     "metadata": {},
     "output_type": "execute_result"
    },
    {
     "data": {
      "image/png": "[encoded data removed]",
      "text/plain": [
       "<Figure size 1440x720 with 1 Axes>"
      ]
     },
     "metadata": {},
     "output_type": "display_data"
    }
   ],
   "source": [
    "group1['smoothed_ctr'] = smoothed_ctr_df.apply(lambda x: get_smoothed_ctr(x['likes'], x['views'], global_ctr_1, 5), axis=1)\n",
    "\n",
    "sns.histplot(group1.smoothed_ctr, kde = False)"
   ]
  },
  {
   "cell_type": "markdown",
   "metadata": {},
   "source": [
    "**Сглаженное распределение CTR в группе 1.  \n",
    "Видно различие (отсутствие локальных пиков) по краям и в центре.**"
   ]
  },
  {
   "cell_type": "code",
   "execution_count": 17,
   "metadata": {},
   "outputs": [
    {
     "data": {
      "text/plain": [
       "<AxesSubplot:xlabel='ctr', ylabel='Count'>"
      ]
     },
     "execution_count": 17,
     "metadata": {},
     "output_type": "execute_result"
    },
    {
     "data": {
      "image/png": "[encoded data removed]",
      "text/plain": [
       "<Figure size 1440x720 with 1 Axes>"
      ]
     },
     "metadata": {},
     "output_type": "display_data"
    }
   ],
   "source": [
    "group2 = smoothed_ctr_df[smoothed_ctr_df.exp_group == 2].copy()\n",
    "\n",
    "sns.histplot(group2.ctr,kde = False)"
   ]
  },
  {
   "cell_type": "markdown",
   "metadata": {},
   "source": [
    "**Распределение CTR в группе 2.**"
   ]
  },
  {
   "cell_type": "code",
   "execution_count": 18,
   "metadata": {},
   "outputs": [
    {
     "data": {
      "text/plain": [
       "<AxesSubplot:xlabel='smoothed_ctr', ylabel='Count'>"
      ]
     },
     "execution_count": 18,
     "metadata": {},
     "output_type": "execute_result"
    },
    {
     "data": {
      "image/png": "[encoded data removed]",
      "text/plain": [
       "<Figure size 1440x720 with 1 Axes>"
      ]
     },
     "metadata": {},
     "output_type": "display_data"
    }
   ],
   "source": [
    "group2['smoothed_ctr'] = smoothed_ctr_df.apply(lambda x: get_smoothed_ctr(x['likes'], x['views'], global_ctr_2, 5), axis=1)\n",
    "\n",
    "sns.histplot(group2.smoothed_ctr, kde = False)"
   ]
  },
  {
   "cell_type": "markdown",
   "metadata": {},
   "source": [
    "**Сглаженное распределение CTR в группе 2.  \n",
    "Едва различимые отличия.**"
   ]
  },
  {
   "cell_type": "code",
   "execution_count": 19,
   "metadata": {},
   "outputs": [
    {
     "data": {
      "text/plain": [
       "Ttest_indResult(statistic=2.2841320431616983, pvalue=0.0223769815558559)"
      ]
     },
     "execution_count": 19,
     "metadata": {},
     "output_type": "execute_result"
    }
   ],
   "source": [
    "t_test_smooth = stats.ttest_ind(group1.smoothed_ctr, group2.smoothed_ctr, equal_var=False)\n",
    "t_test_smooth"
   ]
  },
  {
   "cell_type": "code",
   "execution_count": 20,
   "metadata": {},
   "outputs": [
    {
     "data": {
      "image/png": "[encoded data removed]",
      "text/plain": [
       "<Figure size 1440x720 with 1 Axes>"
      ]
     },
     "metadata": {},
     "output_type": "display_data"
    }
   ],
   "source": [
    "smoothed_ctr_df_true = group1.append(group2, ignore_index=True)\n",
    "\n",
    "groups_smooth = sns.histplot(data = smoothed_ctr_df_true,\n",
    "                             x='ctr',\n",
    "                             hue='exp_group',\n",
    "                             palette = ['r', 'b'],\n",
    "                             kde=False, bins=50)"
   ]
  },
  {
   "cell_type": "markdown",
   "metadata": {},
   "source": [
    "**На гистограмме мы видим примерно ту же картину, что и раньше.  \n",
    "При использовании t-теста на сглаженном CTR мы получили p-уровень значимости 0,02 (против 0,475 ранее) и в этот раз можем отклонить нулевую гипотезу.**"
   ]
  },
  {
   "cell_type": "markdown",
   "metadata": {},
   "source": [
    "## Пуассоновский бутстреп"
   ]
  },
  {
   "cell_type": "code",
   "execution_count": 21,
   "metadata": {},
   "outputs": [],
   "source": [
    "# функция для расчета глобальных CTR для групп 1 и 2\n",
    "\n",
    "def bootstrap(likes1, views1, likes2, views2, n_bootstrap=2000):\n",
    "    poisson_bootstraps1 = stats.poisson(1).rvs((n_bootstrap, len(likes1))).astype(np.int64)\n",
    "    poisson_bootstraps2 = stats.poisson(1).rvs((n_bootstrap, len(likes2))).astype(np.int64)\n",
    "    globalCTR1 = (poisson_bootstraps1*likes1).sum(axis=1)/(poisson_bootstraps1*views1).sum(axis=1)\n",
    "    globalCTR2 = (poisson_bootstraps2*likes2).sum(axis=1)/(poisson_bootstraps2*views2).sum(axis=1)\n",
    "    return globalCTR1, globalCTR2"
   ]
  },
  {
   "cell_type": "code",
   "execution_count": 37,
   "metadata": {},
   "outputs": [
    {
     "data": {
      "text/plain": [
       "<AxesSubplot:ylabel='Count'>"
      ]
     },
     "execution_count": 37,
     "metadata": {},
     "output_type": "execute_result"
    },
    {
     "data": {
      "image/png": "[encoded data removed]",
      "text/plain": [
       "<Figure size 1440x720 with 1 Axes>"
      ]
     },
     "metadata": {},
     "output_type": "display_data"
    }
   ],
   "source": [
    "# делаем запрос в БД, считаем \"глобальные CTR\" для групп, строим гистограммы распределения\n",
    "\n",
    "q_pois_boot = \"\"\"\n",
    "SELECT\n",
    "    exp_group,\n",
    "    user_id,\n",
    "    SUM(action = 'like') as likes,\n",
    "    SUM(action = 'view') as views,\n",
    "    likes/views as ctr\n",
    "FROM\n",
    "    {db}.feed_actions\n",
    "WHERE\n",
    "    toDate(time) BETWEEN '2023-01-31' AND '2023-02-06'\n",
    "    AND exp_group in (1,2)\n",
    "GROUP BY\n",
    "    exp_group,\n",
    "    user_id\n",
    "\"\"\"\n",
    "\n",
    "df_pois_boot = pandahouse.read_clickhouse(q_pois_boot, connection=connection)\n",
    "likes1 = df_pois_boot[df_pois_boot.exp_group == 1].likes.to_numpy()\n",
    "views1 = df_pois_boot[df_pois_boot.exp_group == 1].views.to_numpy()\n",
    "likes2 = df_pois_boot[df_pois_boot.exp_group == 2].likes.to_numpy()\n",
    "views2 = df_pois_boot[df_pois_boot.exp_group == 2].views.to_numpy()\n",
    "ctr1, ctr2 = bootstrap(likes1, views1, likes2, views2)\n",
    "sns.histplot(ctr1)\n",
    "sns.histplot(ctr2)"
   ]
  },
  {
   "cell_type": "markdown",
   "metadata": {},
   "source": [
    "**Видна четкая разница между \"глобальными CTR\" в 1 и 2 группах, распределения не пересекаются. Кроме того группа 2 демонстрирует больший разброс значений \"глобального CTR\", чем группа 1.**"
   ]
  },
  {
   "cell_type": "code",
   "execution_count": 33,
   "metadata": {},
   "outputs": [
    {
     "data": {
      "text/plain": [
       "<AxesSubplot:ylabel='Count'>"
      ]
     },
     "execution_count": 33,
     "metadata": {},
     "output_type": "execute_result"
    },
    {
     "data": {
      "image/png": "[encoded data removed]",
      "text/plain": [
       "<Figure size 1440x720 with 1 Axes>"
      ]
     },
     "metadata": {},
     "output_type": "display_data"
    }
   ],
   "source": [
    "#Разница между глобальными CTR\n",
    "\n",
    "sns.histplot(ctr1 - ctr2)"
   ]
  },
  {
   "cell_type": "markdown",
   "metadata": {},
   "source": [
    "**При этом \"глобальные CTR\" контрольной группы (1) больше, чем экспериментальной.**"
   ]
  },
  {
   "cell_type": "code",
   "execution_count": 38,
   "metadata": {},
   "outputs": [
    {
     "data": {
      "text/plain": [
       "Ttest_indResult(statistic=273.05374958433435, pvalue=0.0)"
      ]
     },
     "execution_count": 38,
     "metadata": {},
     "output_type": "execute_result"
    }
   ],
   "source": [
    "# t-тест можно и не делать, но все же\n",
    "\n",
    "t_pois_boot = stats.ttest_ind(ctr1, ctr2, equal_var=False)\n",
    "t_pois_boot"
   ]
  },
  {
   "cell_type": "markdown",
   "metadata": {},
   "source": [
    "**Нулевая гипотеза отклонена**"
   ]
  },
  {
   "cell_type": "markdown",
   "metadata": {},
   "source": [
    "## Бакетное преобразование"
   ]
  },
  {
   "cell_type": "code",
   "execution_count": 35,
   "metadata": {},
   "outputs": [],
   "source": [
    "# делаем бакетное преобразование\n",
    "\n",
    "q_bucket = \"\"\"\n",
    "SELECT\n",
    "    exp_group,\n",
    "    bucket,\n",
    "    SUM(likes)/SUM(views) as bucket_ctr,\n",
    "    quantileExact(0.9)(ctr) as ctr9\n",
    "FROM \n",
    "    (SELECT \n",
    "            exp_group,\n",
    "            xxHash64(user_id)%50 as bucket,\n",
    "            user_id,\n",
    "            SUM(action = 'like') as likes,\n",
    "            SUM(action = 'view') as views,\n",
    "            likes/views as ctr\n",
    "     FROM\n",
    "            {db}.feed_actions\n",
    "     WHERE \n",
    "            toDate(time) BETWEEN '2023-01-31' AND '2023-02-06'\n",
    "            AND exp_group in (1,2)\n",
    "     GROUP BY\n",
    "             exp_group,\n",
    "             bucket,\n",
    "             user_id) AS sq3\n",
    "GROUP BY\n",
    "    exp_group,\n",
    "    bucket\n",
    "\"\"\"\n",
    "df_bucket = pandahouse.read_clickhouse(q_bucket, connection=connection)"
   ]
  },
  {
   "cell_type": "code",
   "execution_count": 36,
   "metadata": {},
   "outputs": [
    {
     "data": {
      "text/plain": [
       "MannwhitneyuResult(statistic=1995.0, pvalue=2.859963936492646e-07)"
      ]
     },
     "execution_count": 36,
     "metadata": {},
     "output_type": "execute_result"
    }
   ],
   "source": [
    "#тест Манна-Уитни\n",
    "\n",
    "stats.mannwhitneyu(df_bucket[df_bucket.exp_group == 1].bucket_ctr,\n",
    "                   df_bucket[df_bucket.exp_group == 2].bucket_ctr,\n",
    "                   alternative = 'two-sided')"
   ]
  },
  {
   "cell_type": "code",
   "execution_count": 40,
   "metadata": {},
   "outputs": [
    {
     "data": {
      "text/plain": [
       "Ttest_indResult(statistic=5.668234732053979, pvalue=3.4455951649945907e-07)"
      ]
     },
     "execution_count": 40,
     "metadata": {},
     "output_type": "execute_result"
    }
   ],
   "source": [
    "#t-тест\n",
    "stats.ttest_ind(df_bucket[df_bucket.exp_group == 1].bucket_ctr,\n",
    "                df_bucket[df_bucket.exp_group == 2].bucket_ctr,\n",
    "                equal_var = False)"
   ]
  },
  {
   "cell_type": "markdown",
   "metadata": {},
   "source": [
    "**Т-тест и тест Манна-Уитни показывают p-value менее 0,05. Нулевая гипотеза отклонена.**"
   ]
  },
  {
   "cell_type": "code",
   "execution_count": 41,
   "metadata": {},
   "outputs": [
    {
     "data": {
      "image/png": "[encoded data removed]",
      "text/plain": [
       "<Figure size 1440x720 with 1 Axes>"
      ]
     },
     "metadata": {},
     "output_type": "display_data"
    }
   ],
   "source": [
    "# Рисуем распределение бакетных CTR\n",
    "\n",
    "groups_bucket = sns.histplot(data = df_bucket,\n",
    "                             x='bucket_ctr',\n",
    "                             hue='exp_group',\n",
    "                             palette = ['r', 'b'],\n",
    "                             kde=False, bins = 20)"
   ]
  },
  {
   "cell_type": "code",
   "execution_count": 42,
   "metadata": {},
   "outputs": [
    {
     "data": {
      "text/html": [
       "<div>\n",
       "<style scoped>\n",
       "    .dataframe tbody tr th:only-of-type {\n",
       "        vertical-align: middle;\n",
       "    }\n",
       "\n",
       "    .dataframe tbody tr th {\n",
       "        vertical-align: top;\n",
       "    }\n",
       "\n",
       "    .dataframe thead th {\n",
       "        text-align: right;\n",
       "    }\n",
       "</style>\n",
       "<table border=\"1\" class=\"dataframe\">\n",
       "  <thead>\n",
       "    <tr style=\"text-align: right;\">\n",
       "      <th></th>\n",
       "      <th>exp_group</th>\n",
       "      <th>bucket</th>\n",
       "      <th>bucket_ctr</th>\n",
       "      <th>ctr9</th>\n",
       "    </tr>\n",
       "  </thead>\n",
       "  <tbody>\n",
       "    <tr>\n",
       "      <th>count</th>\n",
       "      <td>100.000000</td>\n",
       "      <td>100.00000</td>\n",
       "      <td>100.000000</td>\n",
       "      <td>100.000000</td>\n",
       "    </tr>\n",
       "    <tr>\n",
       "      <th>mean</th>\n",
       "      <td>1.500000</td>\n",
       "      <td>24.50000</td>\n",
       "      <td>0.203191</td>\n",
       "      <td>0.364456</td>\n",
       "    </tr>\n",
       "    <tr>\n",
       "      <th>std</th>\n",
       "      <td>0.502519</td>\n",
       "      <td>14.50357</td>\n",
       "      <td>0.009974</td>\n",
       "      <td>0.047095</td>\n",
       "    </tr>\n",
       "    <tr>\n",
       "      <th>min</th>\n",
       "      <td>1.000000</td>\n",
       "      <td>0.00000</td>\n",
       "      <td>0.174810</td>\n",
       "      <td>0.285714</td>\n",
       "    </tr>\n",
       "    <tr>\n",
       "      <th>25%</th>\n",
       "      <td>1.000000</td>\n",
       "      <td>12.00000</td>\n",
       "      <td>0.196330</td>\n",
       "      <td>0.323037</td>\n",
       "    </tr>\n",
       "    <tr>\n",
       "      <th>50%</th>\n",
       "      <td>1.500000</td>\n",
       "      <td>24.50000</td>\n",
       "      <td>0.205072</td>\n",
       "      <td>0.364919</td>\n",
       "    </tr>\n",
       "    <tr>\n",
       "      <th>75%</th>\n",
       "      <td>2.000000</td>\n",
       "      <td>37.00000</td>\n",
       "      <td>0.209913</td>\n",
       "      <td>0.400000</td>\n",
       "    </tr>\n",
       "    <tr>\n",
       "      <th>max</th>\n",
       "      <td>2.000000</td>\n",
       "      <td>49.00000</td>\n",
       "      <td>0.226729</td>\n",
       "      <td>0.467742</td>\n",
       "    </tr>\n",
       "  </tbody>\n",
       "</table>\n",
       "</div>"
      ],
      "text/plain": [
       "        exp_group     bucket  bucket_ctr        ctr9\n",
       "count  100.000000  100.00000  100.000000  100.000000\n",
       "mean     1.500000   24.50000    0.203191    0.364456\n",
       "std      0.502519   14.50357    0.009974    0.047095\n",
       "min      1.000000    0.00000    0.174810    0.285714\n",
       "25%      1.000000   12.00000    0.196330    0.323037\n",
       "50%      1.500000   24.50000    0.205072    0.364919\n",
       "75%      2.000000   37.00000    0.209913    0.400000\n",
       "max      2.000000   49.00000    0.226729    0.467742"
      ]
     },
     "execution_count": 42,
     "metadata": {},
     "output_type": "execute_result"
    }
   ],
   "source": [
    "df_bucket.describe()"
   ]
  },
  {
   "cell_type": "code",
   "execution_count": 43,
   "metadata": {},
   "outputs": [
    {
     "data": {
      "image/png": "[encoded data removed]",
      "text/plain": [
       "<Figure size 1440x720 with 1 Axes>"
      ]
     },
     "metadata": {},
     "output_type": "display_data"
    }
   ],
   "source": [
    "# Рисуем распределение бакетных CTR с квантилем 0.9\n",
    "\n",
    "groups_bucket = sns.histplot(data = df_bucket,\n",
    "                             x='ctr9',\n",
    "                             hue='exp_group',\n",
    "                             palette = ['r', 'b'],\n",
    "                             kde=False, bins = 20)"
   ]
  },
  {
   "cell_type": "markdown",
   "metadata": {},
   "source": [
    "**Как и в случае с \"глобальными CTR\", распределения 0.9-квантильных CTR не пересекаются.** "
   ]
  },
  {
   "cell_type": "code",
   "execution_count": 44,
   "metadata": {},
   "outputs": [
    {
     "data": {
      "text/plain": [
       "Ttest_indResult(statistic=-23.214341215937406, pvalue=1.2945537024964474e-40)"
      ]
     },
     "execution_count": 44,
     "metadata": {},
     "output_type": "execute_result"
    }
   ],
   "source": [
    "stats.ttest_ind(df_bucket[df_bucket.exp_group == 1].ctr9,\n",
    "                df_bucket[df_bucket.exp_group == 2].ctr9,\n",
    "                equal_var = False)"
   ]
  },
  {
   "cell_type": "markdown",
   "metadata": {},
   "source": [
    "**Ожидаемо, p-value много меньше 0,05. Нулевая гипотеза отклонена.**"
   ]
  },
  {
   "cell_type": "markdown",
   "metadata": {},
   "source": [
    "## Обсуждение результатов"
   ]
  },
  {
   "cell_type": "markdown",
   "metadata": {},
   "source": [
    "**Все тесты, кроме t-теста на сырых данных, показали p-value менее 0,05, что позволяет отклонить нулевую гипотезу. После обработки данных t-тест также стал показывать р-уровень значимости менее 0,05.  \n",
    "Графический анализ распределений CTR показывает унимодальное нормальное распределение ctr в контрольной группе (1) и бимодальное распределение ctr в экспериментальной группе (2). Выглядит так, будто из-за нового алгоритма рекомендаций часть пользователей в группе 2 стали \"лайкать\" чаще, а другая часть пользователей - реже. Причем тех, кто \"лайкает\" меньше стало больше.  \n",
    "Раскатывать новый алгоритм на всех новых пользователей однозначно не стоит.**"
   ]
  }
 ],
 "metadata": {
  "kernelspec": {
   "display_name": "Python 3",
   "language": "python",
   "name": "python3"
  },
  "language_info": {
   "codemirror_mode": {
    "name": "ipython",
    "version": 3
   },
   "file_extension": ".py",
   "mimetype": "text/x-python",
   "name": "python",
   "nbconvert_exporter": "python",
   "pygments_lexer": "ipython3",
   "version": "3.8.5"
  }
 },
 "nbformat": 4,
 "nbformat_minor": 5
}

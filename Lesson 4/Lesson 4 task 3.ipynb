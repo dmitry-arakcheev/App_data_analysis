{
 "cells": [
  {
   "cell_type": "markdown",
   "metadata": {},
   "source": [
    "# Задание\n",
    "\n",
    "**Мы наблюдаем внезапное падение активной аудитории! Нужно разобраться, какие пользователи не смогли зайти в приложение, что их объединяет?**"
   ]
  },
  {
   "cell_type": "markdown",
   "metadata": {},
   "source": [
    "*вместо ссылки на дашборд здесь будет приведено изображение*"
   ]
  },
  {
   "cell_type": "markdown",
   "metadata": {},
   "source": [
    "![Падение активной аудитории](Dashboard_6/падение-активной-аудитории-1.jpg \"Падение активной аудитории на графике DAU\")"
   ]
  },
  {
   "cell_type": "markdown",
   "metadata": {},
   "source": [
    "![Падение активной аудитории](Dashboard_6/падение-активной-аудитории-2.jpg \"Падение активной аудитории в срезе OS\")"
   ]
  },
  {
   "cell_type": "markdown",
   "metadata": {},
   "source": [
    "![Падение активной аудитории](Dashboard_6/падение-активной-аудитории-3.jpg \"Падение активной аудитории в срезе стран\")"
   ]
  },
  {
   "cell_type": "markdown",
   "metadata": {},
   "source": [
    "![Падение активной аудитории](Dashboard_6/падение-активной-аудитории-4.jpg \"Падение активной аудитории по странам без России\")"
   ]
  },
  {
   "cell_type": "markdown",
   "metadata": {},
   "source": [
    "![Падение активной аудитории](Dashboard_6/падение-активной-аудитории-5.jpg \"Падение активной аудитории по городам России\")"
   ]
  },
  {
   "cell_type": "markdown",
   "metadata": {},
   "source": [
    "**Проблема локализована. Данные будут переданы техническим службам для дальнейшего анализа**"
   ]
  },
  {
   "cell_type": "code",
   "execution_count": null,
   "metadata": {},
   "outputs": [],
   "source": []
  }
 ],
 "metadata": {
  "kernelspec": {
   "display_name": "Python 3",
   "language": "python",
   "name": "python3"
  },
  "language_info": {
   "codemirror_mode": {
    "name": "ipython",
    "version": 3
   },
   "file_extension": ".py",
   "mimetype": "text/x-python",
   "name": "python",
   "nbconvert_exporter": "python",
   "pygments_lexer": "ipython3",
   "version": "3.8.5"
  }
 },
 "nbformat": 4,
 "nbformat_minor": 4
}

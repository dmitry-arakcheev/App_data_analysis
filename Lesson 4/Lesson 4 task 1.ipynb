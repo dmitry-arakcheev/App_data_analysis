{
 "cells": [
  {
   "cell_type": "markdown",
   "metadata": {},
   "source": [
    "# Задание\n",
    "\n",
    "**Необходимо проанализировать и сравнить Retention этих двух групп пользователей (тех, кто пришел через платный трафик source = 'ads', и тех, кто пришел через органические каналы source = 'organic').  \n",
    "Решением этой задачи будет ответ на вопрос: отличается ли характер использования приложения у этих групп пользователей**"
   ]
  },
  {
   "cell_type": "markdown",
   "metadata": {},
   "source": [
    "*вместо ссылки на дашборд здесь будет приведено изображение*"
   ]
  },
  {
   "cell_type": "markdown",
   "metadata": {},
   "source": [
    "![Retention](Dashboard_4/анализ-продуктовых-метрик-retention-1.jpg \"Dasboard анализ ретеншн пользователей\")"
   ]
  },
  {
   "cell_type": "markdown",
   "metadata": {},
   "source": [
    "-------"
   ]
  },
  {
   "cell_type": "markdown",
   "metadata": {},
   "source": [
    "![Retention %](Dashboard_4/анализ-продуктовых-метрик-retention-2.jpg \"Dasboard анализ ретеншн пользователей (%)\")"
   ]
  },
  {
   "cell_type": "markdown",
   "metadata": {},
   "source": [
    "![Retention(ads) %](Dashboard_4/retention-по-дням-ads.jpg \"Dasboard анализ ретеншн пользователей (ads, %)\")"
   ]
  },
  {
   "cell_type": "markdown",
   "metadata": {},
   "source": [
    "![Retention(organic) %](Dashboard_4/retention-по-дням-organic.jpg \"Dasboard анализ ретеншн пользователей (organic, %)\")"
   ]
  },
  {
   "cell_type": "markdown",
   "metadata": {},
   "source": [
    "-------"
   ]
  },
  {
   "cell_type": "markdown",
   "metadata": {},
   "source": [
    "![Аудитория по неделям](Dashboard_4/анализ-продуктовых-метрик-retention-3.jpg \"Аудитория по неделям\")"
   ]
  }
 ],
 "metadata": {
  "kernelspec": {
   "display_name": "Python 3",
   "language": "python",
   "name": "python3"
  },
  "language_info": {
   "codemirror_mode": {
    "name": "ipython",
    "version": 3
   },
   "file_extension": ".py",
   "mimetype": "text/x-python",
   "name": "python",
   "nbconvert_exporter": "python",
   "pygments_lexer": "ipython3",
   "version": "3.8.5"
  }
 },
 "nbformat": 4,
 "nbformat_minor": 4
}
